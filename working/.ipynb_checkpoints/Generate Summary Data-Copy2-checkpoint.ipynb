{
 "cells": [
  {
   "cell_type": "markdown",
   "metadata": {},
   "source": [
    "## Theoretic Bounds\n",
    "\n",
    "Set up the functions as described in the paper"
   ]
  },
  {
   "cell_type": "code",
   "execution_count": 1,
   "metadata": {},
   "outputs": [],
   "source": [
    "i,j,k = var('i,j,k') # throwaway variables\n",
    "\n",
    "# standard functions\n",
    "FR(r,l) = 2*r*(2*r-1)**(l-1)\n",
    "CR(r,l) = (2*r-1)**l + 1 + (r-1)*(1+(-1)**l)\n",
    "\n",
    "CR2(r,l1,l2) = sum(CR(r,i), i,l1,l2)\n",
    "\n",
    "# Lemma 3.1: upper bound on NC1\n",
    "nc1TightBound(lam,r,l,m) = \\\n",
    "    2*l*(l - 2*ceil(lam*l) - 2) * FR(r,ceil(lam*l)) * (2*r-1)**(l-2*ceil(lam*l)) \\\n",
    "    + \\\n",
    "    sum( \\\n",
    "      l * CR(r,k) * (2*r-1)**(l-ceil(lam*l) - k) \\\n",
    "    , k,1,ceil(lam*l))\n",
    "\n",
    "# Lemma 3.2: upper bound on NC2\n",
    "nc2TightBound(lam,r,l1,l2,m) = sum(sum( \\\n",
    "      2*i*j \\\n",
    "      * FR(r,ceil(lam*min_symbolic(i,j))) \\\n",
    "      * (2*r-1)**(i+j - 2*ceil(lam*min_symbolic(i,j))) \\\n",
    "  ,j,l1,l2) ,i,l1,l2)\n",
    "\n",
    "# misc: lower bound on probability\n",
    "lowerBound(lam,r,l1,l2,m) = 1 \\\n",
    "    - m * sum(nc1TightBound(lam,r,i,m), i,l1,l2) / CR2(r,l1,l2) \\\n",
    "    - m * (m-1) * nc2TightBound(lam,r,l1,l2,m) / (CR2(r,l1,l2)**2)\n",
    "\n",
    "# Lemma 3.3: test if has zero probabilty\n",
    "#  NOTE: this can still return false when the probability is zero\n",
    "knownZeroProp(lam,r,l,m) = ( FR(r,ceil(lam*l)) - 2*m*l < 0 )\n",
    "knownZeroProp2(lam,r,l,m) = ( CR(r,l) - 4*m*l*(r-1)*(2*r-1)**(l-ceil(lam*l)-1) < 0 )\n",
    "\n",
    "# Lemma 3.3: upper bound on probability\n",
    "upperBound(lam,r,l,m) = product( min_symbolic(\\\n",
    "    CR(r,l) - 4*i*l*(r-1)*(2*r-1)**(l-ceil(lam*l)-1), \\\n",
    "    (FR(r,ceil(lam*l)) - 2*i*l) * (2*r-1)**(l-floor(1/lam)*ceil(lam*l)) * \\\n",
    "    product( min_symbolic( (2*r-1)**ceil(lam*l), \\\n",
    "        FR(r,ceil(lam*l)) \\\n",
    "          - 2*i*l \\\n",
    "          - 2*((k-2)*ceil(lam*l) + 1 + l - floor(1/lam)*ceil(lam*l)) \\\n",
    "    ) ,k,2,floor(1/lam)) \\\n",
    ") ,i,0,m-1) / ( CR(r,l)**m )\n",
    "\n",
    "# Lemma 4.1: check if small cancelation is known to hold\n",
    "knownSmallCancelation(p,lam,r,l,m) = ( \\\n",
    "  (1-p) * (2*r-1)**(1+lam*l) - 8 * r * m**2 * l**2 >= 0 )\n",
    "# also, a rough estimate of the probability\n",
    "lowerBoundRough(lam,r,l,m) = \\\n",
    "  ( (2*r-1)**(1+lam*l) - 8 * r * m**2 * l**2 ) /  ( (2*r-1)**(1+lam*l) )"
   ]
  },
  {
   "cell_type": "markdown",
   "metadata": {},
   "source": [
    "### Cached Versions"
   ]
  },
  {
   "cell_type": "code",
   "execution_count": 2,
   "metadata": {},
   "outputs": [],
   "source": [
    "@func_persist\n",
    "def upperBoundCached(lam,r,length,m,dig = 8):\n",
    "    return upperBound(lam,Integer(r),Integer(length),integer(m))\\\n",
    "                        .full_simplify().n(digits=int(dig))\n",
    "\n",
    "@func_persist\n",
    "def lowerBoundCached(lam,r,l1,l2,m,dig = 8):\n",
    "    return max_symbolic(0,lowerBound(lam,Integer(r),Integer(l1),Integer(l2),Integer(m)))\\\n",
    "                        .full_simplify().n(digits=int(dig))\n",
    "\n",
    "def upperBoundCached2(lam,r,length,m,dig = 8):\n",
    "    if bool(knownZeroProp(1/6,Integer(r),Integer(length),Integer(m))) or\\\n",
    "            bool(knownZeroProp2(1/6,Integer(r),Integer(length),Integer(m))):\n",
    "        return 0\n",
    "    return upperBoundCached(lam,r,length,m,dig)\n",
    "\n",
    "def lowerBoundCached2(lam,r,l1,l2,m,dig = 8):\n",
    "    return lowerBoundCached(lam,r,l1,l2,m,dig)\n"
   ]
  },
  {
   "cell_type": "markdown",
   "metadata": {},
   "source": [
    "## Read the Experimental Data\n",
    "\n",
    "Read files `../data/[time]/data_[r]_[m]_[l1]_[l2].txt` and ``../mesh/[time]/data_r-[r]_m-[m]_l1-[l1]_l2-[l2].csv``"
   ]
  },
  {
   "cell_type": "code",
   "execution_count": null,
   "metadata": {},
   "outputs": [],
   "source": [
    "full_data_set = {}"
   ]
  },
  {
   "cell_type": "code",
   "execution_count": 8,
   "metadata": {},
   "outputs": [],
   "source": [
    "def experimental_data(r,m,l1,l2):\n",
    "    data = full_data_set\n",
    "    \n",
    "    if int(r) in data:\n",
    "        data = data[int(r)]\n",
    "    else:\n",
    "        return None\n",
    "    \n",
    "    if int(m) in data:\n",
    "        data = data[int(m)]\n",
    "    else:\n",
    "        return None\n",
    "    \n",
    "    if int(l1) in data:\n",
    "        data = data[int(l1)]\n",
    "    else:\n",
    "        return None\n",
    "    \n",
    "    if int(l2) in data:\n",
    "        data = data[int(l2)]\n",
    "    else:\n",
    "        return None\n",
    "    \n",
    "    return data\n",
    "\n",
    "################################################################\n",
    "\n",
    "def experimental_data_add(r,m,l1,l2, datum):\n",
    "    \n",
    "    if int(r) not in full_data_set:\n",
    "        full_data_set[int(r)] = {}\n",
    "    \n",
    "    if int(m) not in full_data_set[int(r)]:\n",
    "        full_data_set[int(r)][int(m)] = {}\n",
    "    \n",
    "    if int(l1) not in full_data_set[int(r)][int(m)]:\n",
    "        full_data_set[int(r)][int(m)][int(l1)] = {}\n",
    "    \n",
    "    if int(l2) not in full_data_set[int(r)][int(m)][int(l1)]:\n",
    "        full_data_set[int(r)][int(m)][int(l1)][int(l2)] = datum\n",
    "        return\n",
    "    \n",
    "    old = full_data_set[int(r)][int(m)][int(l1)][int(l2)]\n",
    "    \n",
    "    new_data = [sum(x) for x in zip(old, datum)]\n",
    "    \n",
    "    full_data_set[int(r)][int(m)][int(l1)][int(l2)] = new_data"
   ]
  },
  {
   "cell_type": "code",
   "execution_count": 4,
   "metadata": {},
   "outputs": [],
   "source": [
    "import re\n",
    "import subprocess\n",
    "import os\n",
    "\n",
    "for at_time in os.listdir('../data/'):\n",
    "\n",
    "    for meta in os.listdir('../data/'+at_time):\n",
    "        file_name = os.path.join('../data/'+at_time,meta)\n",
    "        \n",
    "        parts = re.search(\"^data_([0-9]*)_([0-9]*)_([0-9]*)_([0-9]*)\\.txt$\", meta)\n",
    "        \n",
    "        if not parts:\n",
    "            continue\n",
    "        \n",
    "        r  = Integer(int(parts.group(int(1))))\n",
    "        m  = Integer(int(parts.group(int(2))))\n",
    "        l1 = Integer(int(parts.group(int(3))))\n",
    "        l2 = Integer(int(parts.group(int(4))))\n",
    "        \n",
    "        line = subprocess.check_output(['tail', '-1', file_name])\n",
    "        \n",
    "        new_data = [int(v) for v in line.split(\",\")[:int(2)]]\n",
    "        \n",
    "        experimental_data_add(r,m,l1,l2,new_data)\n",
    "\n",
    "################################################################\n",
    "\n",
    "for at_time in os.listdir('../mesh/'):\n",
    "\n",
    "    for meta in os.listdir('../mesh/'+at_time):\n",
    "        file_name = os.path.join('../mesh/'+at_time,meta)\n",
    "        \n",
    "        parts = re.search(\"^data_r-([0-9]*)_m-([0-9]*)_l1-([0-9]*)_l2-([0-9]*)\\.csv$\", meta)\n",
    "        \n",
    "        if not parts:\n",
    "            continue\n",
    "        \n",
    "        r  = Integer(int(parts.group(int(1))))\n",
    "        m  = Integer(int(parts.group(int(2))))\n",
    "        l1 = Integer(int(parts.group(int(3))))\n",
    "        l2 = Integer(int(parts.group(int(4))))\n",
    "        \n",
    "        line = subprocess.check_output(['tail', '-1', file_name])\n",
    "        \n",
    "        new_data = [int(v) for v in line.split(\",\")[:int(2)]]\n",
    "        \n",
    "        experimental_data_add(r,m,l1,l2,new_data)"
   ]
  },
  {
   "cell_type": "code",
   "execution_count": 14,
   "metadata": {},
   "outputs": [],
   "source": [
    "def get_prob(r,m,l1,l2):\n",
    "    \n",
    "    is_known_zero = True\n",
    "    \n",
    "    for l in range(int(l1),int(l2)+1):\n",
    "        if (not bool(knownZeroProp(1/6,r,l,m))) and (not bool(knownZeroProp2(1/6,r,l,m))):\n",
    "            is_known_zero = False\n",
    "            \n",
    "    if is_known_zero:\n",
    "        return 0\n",
    "    \n",
    "    data = experimental_data(r,m,l1,l2)\n",
    "    \n",
    "    if not data:\n",
    "        return None\n",
    "    \n",
    "    return Integer(data[int(0)])/Integer(data[int(1)])\n"
   ]
  },
  {
   "cell_type": "markdown",
   "metadata": {},
   "source": [
    "## Colour Schemes Used in Plots\n",
    "\n",
    "The following colour scheme is based on a technical note from SRON (Paul Tol, 2012)"
   ]
  },
  {
   "cell_type": "code",
   "execution_count": 254,
   "metadata": {},
   "outputs": [],
   "source": [
    "import numpy as np\n",
    "import matplotlib\n",
    "\n",
    "PaulTol_rainbow = matplotlib.colors.ListedColormap([ \\\n",
    "    [ \\\n",
    "        np.clip( ( 0.472 - 0.567*x + 4.05*x**2 ) / ( 1 + 8.72*x - 19.17*x**2 + 14.1*x**3 ) ,0.0,1.0), \\\n",
    "        np.clip( 0.108932 - 1.22635*x + 27.284*x**2 - 98.577*x**3 + 163.3*x**4 - 131.395*x**5 + 40.634*x**6 ,0.0,1.0), \\\n",
    "        np.clip( 1 / ( 1.97 + 3.54*x - 68.5*x**2 + 243*x**3 - 297*x**4 + 125*x**5 ) ,0.0,1.0) \\\n",
    "    ] \\\n",
    "    for x in [ float(n)/float(256-1) for n in range(int(256)) ] \\\n",
    "])\n",
    "\n",
    "PaulTol_recomended = matplotlib.colors.ListedColormap([ \\\n",
    "    [ \\\n",
    "        np.clip( 1.0 - 0.392*(1.0 + math.erf( (x-0.869)/0.255) ) ,0.0,1.0), \\\n",
    "        np.clip( 1.021 - 0.456*( 1.0 + math.erf( (x-0.527)/0.376 ) ) ,0.0,1.0), \\\n",
    "        np.clip( 1.0 - 0.493*( 1.0 + math.erf( (x-0.272)/0.309 ) ) ,0.0,1.0) \\\n",
    "    ] \\\n",
    "    for x in [ float(n)/float(256-1) for n in range(int(256)) ] \\\n",
    "])\n",
    "\n",
    "PaulTol_recomended2 = matplotlib.colors.ListedColormap([ \\\n",
    "    [ \\\n",
    "        np.clip( 0.237 - 2.13*x+26.92*x**2 - 65.5*x**3 +63.5*x**4 -22.36*x**5 ,0.0,1.0), \\\n",
    "        np.clip( ( (0.572+1.524*x-1.811*x**2)/(1-0.291*x+0.1574*x**2) )**2 ,0.0,1.0), \\\n",
    "        np.clip( 1/( 1.579 - 4.03*x + 12.92*x**2 - 31.4*x**3 + 48.6*x**4 - 23.36*x**5 ) ,0.0,1.0) \\\n",
    "    ] \\\n",
    "    for x in [ float(n)/float(256-1) for n in range(int(256)) ] \\\n",
    "])\n",
    "\n",
    "colmap = PaulTol_rainbow"
   ]
  },
  {
   "cell_type": "markdown",
   "metadata": {},
   "source": [
    "## Settings for Plots\n",
    "\n",
    "the following are ensure that the text in plots is correctly displayed"
   ]
  },
  {
   "cell_type": "code",
   "execution_count": 255,
   "metadata": {},
   "outputs": [],
   "source": [
    "import matplotlib.pyplot as plt\n",
    "\n",
    "plt.rc('text', usetex=True)\n",
    "plt.rc('font', family='serif')"
   ]
  },
  {
   "cell_type": "markdown",
   "metadata": {},
   "source": [
    "## Contour Plots of Theoretic Bounds"
   ]
  },
  {
   "cell_type": "markdown",
   "metadata": {},
   "source": [
    "### Part 1: r vs. m"
   ]
  },
  {
   "cell_type": "markdown",
   "metadata": {},
   "source": [
    "#### Generate the data to produce the contour plot"
   ]
  },
  {
   "cell_type": "code",
   "execution_count": 263,
   "metadata": {},
   "outputs": [],
   "source": [
    "import matplotlib\n",
    "import numpy as np\n",
    "import matplotlib.ticker as ticker\n",
    "import matplotlib.pyplot as plt\n",
    "\n",
    "length = 20\n",
    "\n",
    "X_rm = range(6,20+1) # range of r to use\n",
    "Y_rm = range(2,100+1) # range of m to use\n",
    "\n",
    "Z1_rm = []\n",
    "Z2_rm = []\n",
    "Z3_rm = []\n",
    "\n",
    "for r in X_rm:\n",
    "    for m in Y_rm:\n",
    "        lower_bound = lowerBoundCached2(1/6,r,length,length,m,8)\n",
    "        upper_bound = upperBoundCached2(1/6,r,length,m,8)\n",
    "        exper_bound = get_prob(r,m,length,length)\n",
    "        \n",
    "        Z1_rm = Z1_rm + [lower_bound]\n",
    "        Z2_rm = Z2_rm + [upper_bound]\n",
    "        Z3_rm = Z3_rm + [exper_bound]\n",
    "        \n",
    "\n",
    "Z1_rm = np.array(Z1_rm).reshape((len(X_rm),len(Y_rm))).transpose()\n",
    "Z2_rm = np.array(Z2_rm).reshape((len(X_rm),len(Y_rm))).transpose()\n",
    "Z3_rm = np.array(Z3_rm).reshape((len(X_rm),len(Y_rm))).transpose()\n",
    "\n",
    "X_rm = np.array(X_rm)\n",
    "Y_rm = np.array(Y_rm)\n"
   ]
  },
  {
   "cell_type": "markdown",
   "metadata": {},
   "source": [
    "#### Plot the data"
   ]
  },
  {
   "cell_type": "code",
   "execution_count": 264,
   "metadata": {},
   "outputs": [
    {
     "data": {
      "image/png": "[encoded data removed]",
      "text/plain": [
       "<matplotlib.figure.Figure object at 0x7f4bdfe9a150>"
      ]
     },
     "metadata": {},
     "output_type": "display_data"
    },
    {
     "data": {
      "image/png": "[encoded data removed]",
      "text/plain": [
       "<matplotlib.figure.Figure object at 0x7f4bdc384b90>"
      ]
     },
     "metadata": {},
     "output_type": "display_data"
    },
    {
     "data": {
      "image/png": "[encoded data removed]",
      "text/plain": [
       "<matplotlib.figure.Figure object at 0x7f4be0e3bb10>"
      ]
     },
     "metadata": {},
     "output_type": "display_data"
    }
   ],
   "source": [
    "fig, ax = plt.subplots(figsize=(float(2),float(1.5)))\n",
    "\n",
    "pcol = plt.pcolormesh(X_rm,Y_rm,Z1_rm,cmap=colmap,vmin=0.0, vmax=1.0,rasterized=True)\n",
    "\n",
    "plt.xlabel(\"number of generators $r$\")\n",
    "plt.ylabel(\"number of relators $m$\")\n",
    "plt.xticks([int(i) for i in [6,8,10,12,14,16,18,20]])\n",
    "plt.yticks([int(i) for i in [20,40,60,80,100]])\n",
    "\n",
    "ax_divider = make_axes_locatable(ax)\n",
    "cax = ax_divider.append_axes(\"top\", size=\"7%\", pad=\"2%\")\n",
    "cb = colorbar(pcol, cax=cax, orientation=\"horizontal\")\n",
    "cax.xaxis.set_ticks_position(\"top\")\n",
    "cb.solids.set_rasterized(True)\n",
    "\n",
    "plt.savefig(\"../output/rmLower.pdf\",bbox_inches=\"tight\",pad_inches=int(3),dpi=200)\n",
    "\n",
    "######################################################\n",
    "\n",
    "fig, ax = plt.subplots(figsize=(float(2),float(1.5)))\n",
    "\n",
    "pcol = plt.pcolormesh(X_rm,Y_rm,Z2_rm,cmap=colmap,vmin=0.0, vmax=1.0,rasterized=True)\n",
    "\n",
    "plt.xlabel(\"number of generators $r$\")\n",
    "plt.ylabel(\"number of relators $m$\")\n",
    "plt.xticks([int(i) for i in [6,8,10,12,14,16,18,20]])\n",
    "plt.yticks([int(i) for i in [20,40,60,80,100]])\n",
    "\n",
    "ax_divider = make_axes_locatable(ax)\n",
    "cax = ax_divider.append_axes(\"top\", size=\"7%\", pad=\"2%\")\n",
    "cb = colorbar(pcol, cax=cax, orientation=\"horizontal\")\n",
    "cax.xaxis.set_ticks_position(\"top\")\n",
    "cb.solids.set_rasterized(True)\n",
    "\n",
    "plt.savefig(\"../output/rmUpper.pdf\",bbox_inches=\"tight\",pad_inches=int(3),dpi=200)\n",
    "\n",
    "######################################################\n",
    "\n",
    "fig, ax = plt.subplots(figsize=(float(2),float(1.5)))\n",
    "\n",
    "pcol = plt.pcolormesh(X_rm,Y_rm,Z3_rm,cmap=colmap,vmin=0.0, vmax=1.0,rasterized=True)\n",
    "\n",
    "plt.xlabel(\"number of generators $r$\")\n",
    "plt.ylabel(\"number of relators $m$\")\n",
    "plt.xticks([int(i) for i in [6,8,10,12,14,16,18,20]])\n",
    "plt.yticks([int(i) for i in [20,40,60,80,100]])\n",
    "\n",
    "ax_divider = make_axes_locatable(ax)\n",
    "cax = ax_divider.append_axes(\"top\", size=\"7%\", pad=\"2%\")\n",
    "cb = colorbar(pcol, cax=cax, orientation=\"horizontal\")\n",
    "cax.xaxis.set_ticks_position(\"top\")\n",
    "cb.solids.set_rasterized(True)\n",
    "\n",
    "plt.savefig(\"../output/rmExper.pdf\",bbox_inches=\"tight\",pad_inches=int(3),dpi=200)"
   ]
  },
  {
   "cell_type": "markdown",
   "metadata": {},
   "source": [
    "---\n",
    "\n",
    "### Part 2: length vs. m"
   ]
  },
  {
   "cell_type": "markdown",
   "metadata": {},
   "source": [
    "#### Generate the data to produce the contour plot"
   ]
  },
  {
   "cell_type": "code",
   "execution_count": 265,
   "metadata": {},
   "outputs": [],
   "source": [
    "import matplotlib\n",
    "import numpy as np\n",
    "import matplotlib.ticker as ticker\n",
    "import matplotlib.pyplot as plt\n",
    "\n",
    "r = 20\n",
    "\n",
    "X_lm = range(6,30+1) # range of l to use\n",
    "Y_lm = range(2,40+1) # range of m to use\n",
    "\n",
    "Z1_lm = []\n",
    "Z2_lm = []\n",
    "Z3_lm = []\n",
    "\n",
    "for length in X_lm:\n",
    "    for m in Y_lm:\n",
    "        lower_bound = lowerBoundCached2(1/6,r,length,length,m,8)\n",
    "        upper_bound = upperBoundCached2(1/6,r,length,m,8)\n",
    "        exper_bound = get_prob(r,m,length,length).n(digits=8)\n",
    "        \n",
    "        Z1_lm = Z1_lm + [lower_bound]\n",
    "        Z2_lm = Z2_lm + [upper_bound]\n",
    "        Z3_lm = Z3_lm + [exper_bound]\n",
    "        \n",
    "\n",
    "Z1_lm = np.array(Z1_lm).reshape((len(X_lm),len(Y_lm))).transpose()\n",
    "Z2_lm = np.array(Z2_lm).reshape((len(X_lm),len(Y_lm))).transpose()\n",
    "Z3_lm = np.array(Z3_lm).reshape((len(X_lm),len(Y_lm))).transpose()\n",
    "\n",
    "X_lm = np.array(X_lm)\n",
    "Y_lm = np.array(Y_lm)"
   ]
  },
  {
   "cell_type": "markdown",
   "metadata": {},
   "source": [
    "#### Plot the data"
   ]
  },
  {
   "cell_type": "code",
   "execution_count": 266,
   "metadata": {},
   "outputs": [
    {
     "data": {
      "image/png": "[encoded data removed]",
      "text/plain": [
       "<matplotlib.figure.Figure object at 0x7f4bdfe9a650>"
      ]
     },
     "metadata": {},
     "output_type": "display_data"
    },
    {
     "data": {
      "image/png": "[encoded data removed]",
      "text/plain": [
       "<matplotlib.figure.Figure object at 0x7f4be0df7dd0>"
      ]
     },
     "metadata": {},
     "output_type": "display_data"
    },
    {
     "data": {
      "image/png": "[encoded data removed]",
      "text/plain": [
       "<matplotlib.figure.Figure object at 0x7f4bdcc9d1d0>"
      ]
     },
     "metadata": {},
     "output_type": "display_data"
    }
   ],
   "source": [
    "fig, ax = plt.subplots(figsize=(float(2),float(1.5)))\n",
    "\n",
    "pcol = plt.pcolormesh(X_lm,Y_lm,Z1_lm,cmap=colmap,vmin=0.0, vmax=1.0,rasterized=True)\n",
    "\n",
    "plt.xlabel(\"length $\\ell$\")\n",
    "plt.ylabel(\"number of relators $m$\")\n",
    "plt.xticks([int(i) for i in [6,10,15,20,25,30]])\n",
    "plt.yticks([int(i) for i in [2,10,20,30,40]])\n",
    "\n",
    "ax_divider = make_axes_locatable(ax)\n",
    "cax = ax_divider.append_axes(\"top\", size=\"7%\", pad=\"2%\")\n",
    "cb = colorbar(pcol, cax=cax, orientation=\"horizontal\")\n",
    "cax.xaxis.set_ticks_position(\"top\")\n",
    "cb.solids.set_rasterized(True)\n",
    "\n",
    "plt.savefig(\"../output/lmLower.pdf\",bbox_inches=\"tight\",pad_inches=int(3),dpi=200)\n",
    "\n",
    "######################################################\n",
    "\n",
    "fig, ax = plt.subplots(figsize=(float(2),float(1.5)))\n",
    "\n",
    "pcol = plt.pcolormesh(X_lm,Y_lm,Z2_lm,cmap=colmap,vmin=0.0, vmax=1.0,rasterized=True)\n",
    "\n",
    "plt.xlabel(\"length $\\ell$\")\n",
    "plt.ylabel(\"number of relators $m$\")\n",
    "plt.xticks([int(i) for i in [6,10,15,20,25,30]])\n",
    "plt.yticks([int(i) for i in [2,10,20,30,40]])\n",
    "\n",
    "ax_divider = make_axes_locatable(ax)\n",
    "cax = ax_divider.append_axes(\"top\", size=\"7%\", pad=\"2%\")\n",
    "cb = colorbar(pcol, cax=cax, orientation=\"horizontal\")\n",
    "cax.xaxis.set_ticks_position(\"top\")\n",
    "cb.solids.set_rasterized(True)\n",
    "\n",
    "plt.savefig(\"../output/lmUpper.pdf\",bbox_inches=\"tight\",pad_inches=int(3),dpi=200)\n",
    "\n",
    "######################################################\n",
    "\n",
    "fig, ax = plt.subplots(figsize=(float(2),float(1.5)))\n",
    "\n",
    "pcol = plt.pcolormesh(X_lm,Y_lm,Z3_lm,cmap=colmap,vmin=0.0, vmax=1.0,rasterized=True)\n",
    "\n",
    "plt.xlabel(\"length $\\ell$\")\n",
    "plt.ylabel(\"number of relators $m$\")\n",
    "plt.xticks([int(i) for i in [6,10,15,20,25,30]])\n",
    "plt.yticks([int(i) for i in [2,10,20,30,40]])\n",
    "\n",
    "ax_divider = make_axes_locatable(ax)\n",
    "cax = ax_divider.append_axes(\"top\", size=\"7%\", pad=\"2%\")\n",
    "cb = colorbar(pcol, cax=cax, orientation=\"horizontal\")\n",
    "cax.xaxis.set_ticks_position(\"top\")\n",
    "cb.solids.set_rasterized(True)\n",
    "\n",
    "plt.savefig(\"../output/lmExper.pdf\",bbox_inches=\"tight\",pad_inches=int(3),dpi=200)"
   ]
  },
  {
   "cell_type": "markdown",
   "metadata": {},
   "source": [
    "---\n",
    "\n",
    "### Part 3: r vs. length"
   ]
  },
  {
   "cell_type": "markdown",
   "metadata": {},
   "source": [
    "#### Generate the data to produce the contour plot"
   ]
  },
  {
   "cell_type": "code",
   "execution_count": 267,
   "metadata": {},
   "outputs": [],
   "source": [
    "import matplotlib\n",
    "import numpy as np\n",
    "import matplotlib.ticker as ticker\n",
    "import matplotlib.pyplot as plt\n",
    "\n",
    "m = 10\n",
    "\n",
    "X_rl = range(6,50+1) # range of r to use\n",
    "Y_rl = range(2,40+1) # range of l to use\n",
    "\n",
    "Z1_rl = []\n",
    "Z2_rl = []\n",
    "Z3_rl = []\n",
    "\n",
    "for r in X_rl:\n",
    "    for length in Y_rl:\n",
    "        lower_bound = lowerBoundCached2(1/6,r,length,length,m,8)\n",
    "        upper_bound = upperBoundCached2(1/6,r,length,m,8)\n",
    "        exper_bound = get_prob(r,m,length,length)\n",
    "        \n",
    "        Z1_rl = Z1_rl + [lower_bound]\n",
    "        Z2_rl = Z2_rl + [upper_bound]\n",
    "        Z3_rl = Z3_rl + [exper_bound]\n",
    "        \n",
    "Z1_rl = np.array(Z1_rl).reshape((len(X_rl),len(Y_rl))).transpose()\n",
    "Z2_rl = np.array(Z2_rl).reshape((len(X_rl),len(Y_rl))).transpose()\n",
    "Z3_rl = np.array(Z3_rl).reshape((len(X_rl),len(Y_rl))).transpose()\n",
    "\n",
    "X_rl = np.array(X_rl)\n",
    "Y_rl = np.array(Y_rl)\n"
   ]
  },
  {
   "cell_type": "markdown",
   "metadata": {},
   "source": [
    "#### Plot the data"
   ]
  },
  {
   "cell_type": "code",
   "execution_count": 268,
   "metadata": {},
   "outputs": [
    {
     "data": {
      "image/png": "[encoded data removed]",
      "text/plain": [
       "<matplotlib.figure.Figure object at 0x7f4be04b2f50>"
      ]
     },
     "metadata": {},
     "output_type": "display_data"
    },
    {
     "data": {
      "image/png": "[encoded data removed]",
      "text/plain": [
       "<matplotlib.figure.Figure object at 0x7f4bdf77be50>"
      ]
     },
     "metadata": {},
     "output_type": "display_data"
    },
    {
     "data": {
      "image/png": "[encoded data removed]",
      "text/plain": [
       "<matplotlib.figure.Figure object at 0x7f4bdeaa3790>"
      ]
     },
     "metadata": {},
     "output_type": "display_data"
    }
   ],
   "source": [
    "fig, ax = plt.subplots(figsize=(float(2),float(1.5)))\n",
    "\n",
    "pcol = plt.pcolormesh(X_rl,Y_rl,Z1_rl,cmap=colmap,vmin=0.0, vmax=1.0, rasterized=True)\n",
    "\n",
    "plt.xlabel(\"number of generators $r$\")\n",
    "plt.ylabel(\"length $\\ell$\")\n",
    "plt.xticks([int(i) for i in [10,15,20,25,30,35,40,45,50]])\n",
    "plt.yticks([int(i) for i in [5,10,15,20,25,30,35,40]])\n",
    "\n",
    "ax_divider = make_axes_locatable(ax)\n",
    "cax = ax_divider.append_axes(\"top\", size=\"7%\", pad=\"2%\")\n",
    "cb = colorbar(pcol, cax=cax, orientation=\"horizontal\")\n",
    "cb.solids.set_rasterized(True)\n",
    "cax.xaxis.set_ticks_position(\"top\")\n",
    "\n",
    "plt.savefig(\"../output/rlLower.pdf\",bbox_inches=\"tight\",pad_inches=int(3),dpi=200)\n",
    "\n",
    "######################################################\n",
    "\n",
    "fig, ax = plt.subplots(figsize=(float(2),float(1.5)))\n",
    "\n",
    "pcol = plt.pcolormesh(X_rl,Y_rl,Z2_rl,cmap=colmap,vmin=0.0, vmax=1.0, rasterized=True)\n",
    "\n",
    "plt.xlabel(\"number of generators $r$\")\n",
    "plt.ylabel(\"length $\\ell$\")\n",
    "plt.xticks([int(i) for i in [10,15,20,25,30,35,40,45,50]])\n",
    "plt.yticks([int(i) for i in [5,10,15,20,25,30,35,40]])\n",
    "\n",
    "ax_divider = make_axes_locatable(ax)\n",
    "cax = ax_divider.append_axes(\"top\", size=\"7%\", pad=\"2%\")\n",
    "cb = colorbar(pcol, cax=cax, orientation=\"horizontal\")\n",
    "cb.solids.set_rasterized(True)\n",
    "cax.xaxis.set_ticks_position(\"top\")\n",
    "\n",
    "plt.savefig(\"../output/rlUpper.pdf\",bbox_inches=\"tight\",pad_inches=int(3),dpi=200)\n",
    "\n",
    "######################################################\n",
    "\n",
    "fig, ax = plt.subplots(figsize=(float(2),float(1.5)))\n",
    "\n",
    "pcol = plt.pcolormesh(X_rl,Y_rl,Z3_rl,cmap=colmap,vmin=0.0, vmax=1.0, rasterized=True)\n",
    "\n",
    "plt.xlabel(\"number of generators $r$\")\n",
    "plt.ylabel(\"length $\\ell$\")\n",
    "plt.xticks([int(i) for i in [10,15,20,25,30,35,40,45,50]])\n",
    "plt.yticks([int(i) for i in [5,10,15,20,25,30,35,40]])\n",
    "\n",
    "ax_divider = make_axes_locatable(ax)\n",
    "cax = ax_divider.append_axes(\"top\", size=\"7%\", pad=\"2%\")\n",
    "cb = colorbar(pcol, cax=cax, orientation=\"horizontal\")\n",
    "cb.solids.set_rasterized(True)\n",
    "cax.xaxis.set_ticks_position(\"top\")\n",
    "\n",
    "plt.savefig(\"../output/rlExper.pdf\",bbox_inches=\"tight\",pad_inches=int(3),dpi=200)"
   ]
  },
  {
   "cell_type": "code",
   "execution_count": null,
   "metadata": {},
   "outputs": [],
   "source": []
  },
  {
   "cell_type": "code",
   "execution_count": null,
   "metadata": {},
   "outputs": [],
   "source": []
  },
  {
   "cell_type": "code",
   "execution_count": null,
   "metadata": {},
   "outputs": [],
   "source": []
  },
  {
   "cell_type": "code",
   "execution_count": null,
   "metadata": {},
   "outputs": [],
   "source": []
  },
  {
   "cell_type": "code",
   "execution_count": null,
   "metadata": {},
   "outputs": [],
   "source": []
  }
 ],
 "metadata": {
  "kernelspec": {
   "display_name": "SageMath 8.1",
   "language": "",
   "name": "sagemath"
  },
  "language_info": {
   "codemirror_mode": {
    "name": "ipython",
    "version": 2
   },
   "file_extension": ".py",
   "mimetype": "text/x-python",
   "name": "python",
   "nbconvert_exporter": "python",
   "pygments_lexer": "ipython2",
   "version": "2.7.15+"
  }
 },
 "nbformat": 4,
 "nbformat_minor": 2
}
