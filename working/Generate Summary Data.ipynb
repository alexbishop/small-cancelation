{
 "cells": [
  {
   "cell_type": "markdown",
   "metadata": {},
   "source": [
    "## Theoretic Bounds\n",
    "\n",
    "Set up the functions as described in the paper"
   ]
  },
  {
   "cell_type": "code",
   "execution_count": 25,
   "metadata": {},
   "outputs": [],
   "source": [
    "def FR(r,l):\n",
    "    if l == 0:\n",
    "        return 1\n",
    "    return 2*r*(2*r-1)**(l-1)\n",
    "\n",
    "def CR(r,l):\n",
    "    if l == 0:\n",
    "        return 1\n",
    "    return (2*r-1)**l + 1 + (r-1)*(1+(-1)**l)\n",
    "\n",
    "def CR2(r,l1,l2):\n",
    "    value = 0\n",
    "    for i in range(l1,l2+1):\n",
    "        value = value + CR(r,i)\n",
    "    return value\n",
    "\n",
    "def nc1TightBound(lam,r,l,m):\n",
    "    value = 2*l*(l - 2*ceil(lam*l) - 2) * FR(r,ceil(lam*l)) * (2*r-1)**(l - 2*ceil(lam*l))\n",
    "    for k in range(1, ceil(lam*l)+1):\n",
    "        value = value + l * CR(r,k) * (2*r-1)**(l - ceil(lam*l) - k)\n",
    "    return value\n",
    "\n",
    "def nc2TightBound(lam,r,l1,l2,m):\n",
    "    value = 0\n",
    "    \n",
    "    for i in range(l1,l2+1):\n",
    "        for j in range(l2,l2+1):\n",
    "            value = value + 2*i*j \\\n",
    "                      * FR(r,ceil(lam*min(i,j))) \\\n",
    "                      * (2*r-1)**(i+j - 2*ceil(lam*min(i,j)))\n",
    "    return value\n",
    "\n",
    "def lowerBound(lam,r,l1,l2,m):\n",
    "    value = 1\n",
    "    \n",
    "    for i in range(l1,l2+1):\n",
    "        value = value - m * nc1TightBound(lam,r,i,m) / CR2(r,l1,l2)\n",
    "    \n",
    "    value = value - m * (m-1) * nc2TightBound(lam,r,l1,l2,m) / (CR2(r,l1,l2)**2)\n",
    "    \n",
    "    return value\n",
    "\n",
    "def knownZeroProp(lam,r,l,m):\n",
    "    return bool( FR(r,ceil(lam*l)) < 2*m*l )\n",
    "\n",
    "def upperBound_l1(lam,l):\n",
    "    return floor(l/ceil(lam*l))\n",
    "\n",
    "def upperBound_l2(lam,l):\n",
    "    return l - upperBound_l1(lam,l)*ceil(lam*l)\n",
    "\n",
    "def upperBound_omega(i,lam,r,l,m):\n",
    "    return CR(r,l) - 4*(i-1)*l*(r-1)*(2*r-1)**(l-ceil(lam*l)-1)\n",
    "\n",
    "def upperBound_alpha(i,k,lam,r,l,m):\n",
    "    val = FR(r,ceil(lam*l)) - 2*(i-1)*l\n",
    "    if k == 1:\n",
    "        return val\n",
    "    return val - 2*( (k-2)*ceil(lam*l) + upperBound_l2(lam,l) + 1)\n",
    "\n",
    "def upperBound_beta(lam,r,l,m):\n",
    "    return FR(r,upperBound_l2(lam,l))\n",
    "\n",
    "def upperBound(lam,r,l,m):\n",
    "    value = 1\n",
    "    \n",
    "    for i in range(1,m+1):\n",
    "        value2 = upperBound_beta(lam,r,l,m)\n",
    "        for k in range(1,upperBound_l1(lam,l)+1):\n",
    "            value2 = value2 * min_symbolic((2*r-1)**ceil(lam*l), upperBound_alpha(i,k,lam,r,l,m))\n",
    "        value = value * min_symbolic(upperBound_omega(i,lam,r,l,m), value2) / CR(r,l)\n",
    "    \n",
    "    return value\n",
    "\n",
    "def knownSmallCancelation(p,lam,r,l,m):\n",
    "    return ( (1-p) * (2*r-1)**(1+lam*l) - 8 * r * m**2 * l**2 >= 0 )\n",
    "\n",
    "# also, a rough estimate of the probability\n",
    "def lowerBoundRough(lam,r,l,m):\n",
    "    return ( (2*r-1)**(1+lam*l) - 8 * r * m**2 * l**2 ) /  ( (2*r-1)**(1+lam*l) )"
   ]
  },
  {
   "cell_type": "markdown",
   "metadata": {},
   "source": [
    "## Read the Experimental Data\n",
    "\n",
    "Read files ``../data/*/data_r-[r]_m-[m]_l1-[l1]_l2-[l2].csv``"
   ]
  },
  {
   "cell_type": "markdown",
   "metadata": {},
   "source": [
    "#### Supporting functions\n",
    "\n",
    "The following supporting functions are used to store and retrieve the values which have been read from the data files."
   ]
  },
  {
   "cell_type": "code",
   "execution_count": 7,
   "metadata": {},
   "outputs": [],
   "source": [
    "full_data_set = {}"
   ]
  },
  {
   "cell_type": "code",
   "execution_count": 8,
   "metadata": {},
   "outputs": [],
   "source": [
    "def experimental_data(r,m,l1,l2):\n",
    "    data = full_data_set\n",
    "    \n",
    "    if int(r) in data:\n",
    "        data = data[int(r)]\n",
    "    else:\n",
    "        return None\n",
    "    \n",
    "    if int(m) in data:\n",
    "        data = data[int(m)]\n",
    "    else:\n",
    "        return None\n",
    "    \n",
    "    if int(l1) in data:\n",
    "        data = data[int(l1)]\n",
    "    else:\n",
    "        return None\n",
    "    \n",
    "    if int(l2) in data:\n",
    "        data = data[int(l2)]\n",
    "    else:\n",
    "        return None\n",
    "    \n",
    "    return data"
   ]
  },
  {
   "cell_type": "code",
   "execution_count": 9,
   "metadata": {},
   "outputs": [],
   "source": [
    "def experimental_data_add(r,m,l1,l2, datum):\n",
    "    \n",
    "    if int(r) not in full_data_set:\n",
    "        full_data_set[int(r)] = {}\n",
    "    \n",
    "    if int(m) not in full_data_set[int(r)]:\n",
    "        full_data_set[int(r)][int(m)] = {}\n",
    "    \n",
    "    if int(l1) not in full_data_set[int(r)][int(m)]:\n",
    "        full_data_set[int(r)][int(m)][int(l1)] = {}\n",
    "    \n",
    "    if int(l2) not in full_data_set[int(r)][int(m)][int(l1)]:\n",
    "        full_data_set[int(r)][int(m)][int(l1)][int(l2)] = datum\n",
    "        return\n",
    "    \n",
    "    old = full_data_set[int(r)][int(m)][int(l1)][int(l2)]\n",
    "    \n",
    "    new_data = [sum(x) for x in zip(old, datum)]\n",
    "    \n",
    "    full_data_set[int(r)][int(m)][int(l1)][int(l2)] = new_data"
   ]
  },
  {
   "cell_type": "markdown",
   "metadata": {},
   "source": [
    "#### Read the files"
   ]
  },
  {
   "cell_type": "code",
   "execution_count": 10,
   "metadata": {},
   "outputs": [],
   "source": [
    "import re\n",
    "import subprocess\n",
    "import os\n",
    "\n",
    "for at_time in os.listdir('../data/'):\n",
    "\n",
    "    for meta in os.listdir('../data/'+at_time):\n",
    "        file_name = os.path.join('../data/'+at_time,meta)\n",
    "        \n",
    "        parts = re.search(\"^data_r-([0-9]*)_m-([0-9]*)_l1-([0-9]*)_l2-([0-9]*)\\.csv$\", meta)\n",
    "        \n",
    "        if not parts:\n",
    "            continue\n",
    "        \n",
    "        r  = Integer(int(parts.group(int(1))))\n",
    "        m  = Integer(int(parts.group(int(2))))\n",
    "        l1 = Integer(int(parts.group(int(3))))\n",
    "        l2 = Integer(int(parts.group(int(4))))\n",
    "        \n",
    "        line = subprocess.check_output(['tail', '-1', file_name])\n",
    "        \n",
    "        new_data = [int(v) for v in line.split(\",\")[:int(2)]]\n",
    "        \n",
    "        experimental_data_add(r,m,l1,l2,new_data)"
   ]
  },
  {
   "cell_type": "markdown",
   "metadata": {},
   "source": [
    "#### Final function\n",
    "\n",
    "we use the following function `get_prob` to obtain a sage object representing\n",
    " the experimental probability of obtaining small cancelation"
   ]
  },
  {
   "cell_type": "code",
   "execution_count": 11,
   "metadata": {},
   "outputs": [],
   "source": [
    "def get_prob(r,m,l1,l2):\n",
    "    \n",
    "    is_known_zero = True\n",
    "    \n",
    "    for l in range(int(l1),int(l2)+1):\n",
    "        if not knownZeroProp(1/6,r,l,m):\n",
    "            is_known_zero = False\n",
    "            \n",
    "    if is_known_zero:\n",
    "        return 0\n",
    "    \n",
    "    data = experimental_data(r,m,l1,l2)\n",
    "    \n",
    "    if not data:\n",
    "        return None\n",
    "    \n",
    "    return Integer(data[int(0)])/Integer(data[int(1)])"
   ]
  },
  {
   "cell_type": "markdown",
   "metadata": {},
   "source": [
    "## Colour Schemes Used in Plots\n",
    "\n",
    "The following colour scheme is based on a technical note from SRON (Paul Tol, 2012)"
   ]
  },
  {
   "cell_type": "code",
   "execution_count": 12,
   "metadata": {},
   "outputs": [],
   "source": [
    "import numpy as np\n",
    "import matplotlib\n",
    "\n",
    "PaulTol_rainbow = matplotlib.colors.ListedColormap([ \\\n",
    "    [ \\\n",
    "        np.clip( ( 0.472 - 0.567*x + 4.05*x**2 ) / ( 1 + 8.72*x - 19.17*x**2 + 14.1*x**3 ) ,0.0,1.0), \\\n",
    "        np.clip( 0.108932 - 1.22635*x + 27.284*x**2 - 98.577*x**3 + 163.3*x**4 - 131.395*x**5 + 40.634*x**6 ,0.0,1.0), \\\n",
    "        np.clip( 1 / ( 1.97 + 3.54*x - 68.5*x**2 + 243*x**3 - 297*x**4 + 125*x**5 ) ,0.0,1.0) \\\n",
    "    ] \\\n",
    "    for x in [ float(n)/float(256-1) for n in range(int(256)) ] \\\n",
    "])\n",
    "\n",
    "PaulTol_recomended = matplotlib.colors.ListedColormap([ \\\n",
    "    [ \\\n",
    "        np.clip( 1.0 - 0.392*(1.0 + math.erf( (x-0.869)/0.255) ) ,0.0,1.0), \\\n",
    "        np.clip( 1.021 - 0.456*( 1.0 + math.erf( (x-0.527)/0.376 ) ) ,0.0,1.0), \\\n",
    "        np.clip( 1.0 - 0.493*( 1.0 + math.erf( (x-0.272)/0.309 ) ) ,0.0,1.0) \\\n",
    "    ] \\\n",
    "    for x in [ float(n)/float(256-1) for n in range(int(256)) ] \\\n",
    "])\n",
    "\n",
    "colmap = PaulTol_rainbow # the colour scheme to use throughout"
   ]
  },
  {
   "cell_type": "markdown",
   "metadata": {},
   "source": [
    "## Contour Plots of Theoretic Bounds"
   ]
  },
  {
   "cell_type": "markdown",
   "metadata": {},
   "source": [
    "###### necessary includes and settings"
   ]
  },
  {
   "cell_type": "code",
   "execution_count": 13,
   "metadata": {},
   "outputs": [],
   "source": [
    "import matplotlib\n",
    "import matplotlib.ticker as ticker\n",
    "import matplotlib.pyplot as plt\n",
    "from mpl_toolkits.axes_grid1 import make_axes_locatable\n",
    "import numpy as np\n",
    "\n",
    "# the following ensures that text in the graphs is correctly displayed\n",
    "plt.rc('text', usetex=True)\n",
    "plt.rc('font', family='serif')"
   ]
  },
  {
   "cell_type": "markdown",
   "metadata": {},
   "source": [
    "### Part 1: r vs. m"
   ]
  },
  {
   "cell_type": "markdown",
   "metadata": {},
   "source": [
    "#### Generate the data to produce the contour plot"
   ]
  },
  {
   "cell_type": "code",
   "execution_count": 26,
   "metadata": {},
   "outputs": [],
   "source": [
    "length = 20\n",
    "\n",
    "X_rm = range(6,20+1) # range of r to use\n",
    "Y_rm = range(2,100+1) # range of m to use\n",
    "\n",
    "Z_rm_lower = []\n",
    "Z_rm_upper = []\n",
    "Z_rm_exper = []\n",
    "\n",
    "for r in X_rm:\n",
    "    for m in Y_rm:\n",
    "        lower_bound = lowerBound(1/6,r,length,length,m).n(digits=8)\n",
    "        upper_bound = upperBound(1/6,r,length,m).n(digits=8)\n",
    "        exper_bound = get_prob(r,m,length,length)\n",
    "        \n",
    "        Z_rm_lower = Z_rm_lower + [lower_bound]\n",
    "        Z_rm_upper = Z_rm_upper + [upper_bound]\n",
    "        Z_rm_exper = Z_rm_exper + [exper_bound]\n",
    "\n",
    "Z_rm_lower = np.array(Z_rm_lower).reshape((len(X_rm),len(Y_rm))).transpose()\n",
    "Z_rm_upper = np.array(Z_rm_upper).reshape((len(X_rm),len(Y_rm))).transpose()\n",
    "Z_rm_exper = np.array(Z_rm_exper).reshape((len(X_rm),len(Y_rm))).transpose()\n",
    "\n",
    "X_rm = np.array(X_rm)\n",
    "Y_rm = np.array(Y_rm)"
   ]
  },
  {
   "cell_type": "markdown",
   "metadata": {},
   "source": [
    "#### Plot the data"
   ]
  },
  {
   "cell_type": "markdown",
   "metadata": {},
   "source": [
    "###### lower bound"
   ]
  },
  {
   "cell_type": "code",
   "execution_count": 27,
   "metadata": {},
   "outputs": [
    {
     "data": {
      "image/png": "[encoded data removed]",
      "text/plain": [
       "<matplotlib.figure.Figure object at 0x7fddf0013e50>"
      ]
     },
     "metadata": {},
     "output_type": "display_data"
    }
   ],
   "source": [
    "fig, ax = plt.subplots(figsize=(float(5),float(4)))\n",
    "\n",
    "pcol = plt.pcolormesh(X_rm,Y_rm,Z_rm_lower,cmap=colmap,vmin=0.0, vmax=1.0,rasterized=True)\n",
    "\n",
    "plt.xlabel(\"number of generators $r$\")\n",
    "plt.ylabel(\"number of relators $m$\")\n",
    "plt.xticks([int(i) for i in [6,8,10,12,14,16,18,20]])\n",
    "plt.yticks([int(i) for i in [2,20,40,60,80,100]])\n",
    "\n",
    "ax_divider = make_axes_locatable(ax)\n",
    "cax = ax_divider.append_axes(\"top\", size=\"7%\", pad=\"7%\")\n",
    "cb = plt.colorbar(pcol, cax=cax, orientation=\"horizontal\",label=\"probability\")\n",
    "cax.xaxis.set_ticks_position(\"top\")\n",
    "cb.ax.xaxis.set_label_position(\"top\")\n",
    "cb.solids.set_rasterized(True)\n",
    "\n",
    "plt.savefig(\"../output/rmLower.pdf\",bbox_inches=\"tight\",pad_inches=int(3),dpi=200)"
   ]
  },
  {
   "cell_type": "markdown",
   "metadata": {},
   "source": [
    "###### upper bound"
   ]
  },
  {
   "cell_type": "code",
   "execution_count": 28,
   "metadata": {},
   "outputs": [
    {
     "data": {
      "image/png": "[encoded data removed]",
      "text/plain": [
       "<matplotlib.figure.Figure object at 0x7fdded13f250>"
      ]
     },
     "metadata": {},
     "output_type": "display_data"
    }
   ],
   "source": [
    "fig, ax = plt.subplots(figsize=(float(5),float(4)))\n",
    "\n",
    "pcol = plt.pcolormesh(X_rm,Y_rm,Z_rm_upper,cmap=colmap,vmin=0.0, vmax=1.0,rasterized=True)\n",
    "\n",
    "plt.xlabel(\"number of generators $r$\")\n",
    "plt.ylabel(\"number of relators $m$\")\n",
    "plt.xticks([int(i) for i in [6,8,10,12,14,16,18,20]])\n",
    "plt.yticks([int(i) for i in [2,20,40,60,80,100]])\n",
    "\n",
    "ax_divider = make_axes_locatable(ax)\n",
    "cax = ax_divider.append_axes(\"top\", size=\"7%\", pad=\"7%\")\n",
    "cb = plt.colorbar(pcol, cax=cax, orientation=\"horizontal\",label=\"probability\")\n",
    "cax.xaxis.set_ticks_position(\"top\")\n",
    "cb.ax.xaxis.set_label_position(\"top\")\n",
    "cb.solids.set_rasterized(True)\n",
    "\n",
    "plt.savefig(\"../output/rmUpper.pdf\",bbox_inches=\"tight\",pad_inches=int(3),dpi=200)"
   ]
  },
  {
   "cell_type": "markdown",
   "metadata": {},
   "source": [
    "###### experimental bound"
   ]
  },
  {
   "cell_type": "code",
   "execution_count": 29,
   "metadata": {},
   "outputs": [
    {
     "data": {
      "image/png": "[encoded data removed]",
      "text/plain": [
       "<matplotlib.figure.Figure object at 0x7fdded133a50>"
      ]
     },
     "metadata": {},
     "output_type": "display_data"
    }
   ],
   "source": [
    "fig, ax = plt.subplots(figsize=(float(5),float(4)))\n",
    "\n",
    "pcol = plt.pcolormesh(X_rm,Y_rm,Z_rm_exper,cmap=colmap,vmin=0.0, vmax=1.0,rasterized=True)\n",
    "\n",
    "plt.xlabel(\"number of generators $r$\")\n",
    "plt.ylabel(\"number of relators $m$\")\n",
    "plt.xticks([int(i) for i in [6,8,10,12,14,16,18,20]])\n",
    "plt.yticks([int(i) for i in [2,20,40,60,80,100]])\n",
    "\n",
    "ax_divider = make_axes_locatable(ax)\n",
    "cax = ax_divider.append_axes(\"top\", size=\"7%\", pad=\"7%\")\n",
    "cb = plt.colorbar(pcol, cax=cax, orientation=\"horizontal\",label=\"probability\")\n",
    "cax.xaxis.set_ticks_position(\"top\")\n",
    "cb.ax.xaxis.set_label_position(\"top\")\n",
    "cb.solids.set_rasterized(True)\n",
    "\n",
    "plt.savefig(\"../output/rmExper.pdf\",bbox_inches=\"tight\",pad_inches=int(3),dpi=200)"
   ]
  },
  {
   "cell_type": "markdown",
   "metadata": {},
   "source": [
    "---\n",
    "\n",
    "### Part 2: length vs. m"
   ]
  },
  {
   "cell_type": "markdown",
   "metadata": {},
   "source": [
    "#### Generate the data to produce the contour plot"
   ]
  },
  {
   "cell_type": "code",
   "execution_count": 30,
   "metadata": {},
   "outputs": [],
   "source": [
    "r = 20\n",
    "\n",
    "X_lm = range(6,30+1) # range of l to use\n",
    "Y_lm = range(2,40+1) # range of m to use\n",
    "\n",
    "Z_lm_lower = []\n",
    "Z_lm_upper = []\n",
    "Z_lm_exper = []\n",
    "\n",
    "for length in X_lm:\n",
    "    for m in Y_lm:\n",
    "        lower_bound = lowerBound(1/6,r,length,length,m).n(digits=8)\n",
    "        upper_bound = upperBound(1/6,r,length,m).n(digits=8)\n",
    "        exper_bound = get_prob(r,m,length,length)\n",
    "        \n",
    "        Z_lm_lower = Z_lm_lower + [lower_bound]\n",
    "        Z_lm_upper = Z_lm_upper + [upper_bound]\n",
    "        Z_lm_exper = Z_lm_exper + [exper_bound]\n",
    "        \n",
    "\n",
    "Z_lm_lower = np.array(Z_lm_lower).reshape((len(X_lm),len(Y_lm))).transpose()\n",
    "Z_lm_upper = np.array(Z_lm_upper).reshape((len(X_lm),len(Y_lm))).transpose()\n",
    "Z_lm_exper = np.array(Z_lm_exper).reshape((len(X_lm),len(Y_lm))).transpose()\n",
    "\n",
    "X_lm = np.array(X_lm)\n",
    "Y_lm = np.array(Y_lm)"
   ]
  },
  {
   "cell_type": "markdown",
   "metadata": {},
   "source": [
    "#### Plot the data"
   ]
  },
  {
   "cell_type": "markdown",
   "metadata": {},
   "source": [
    "##### lower bound"
   ]
  },
  {
   "cell_type": "code",
   "execution_count": 31,
   "metadata": {},
   "outputs": [
    {
     "data": {
      "image/png": "[encoded data removed]",
      "text/plain": [
       "<matplotlib.figure.Figure object at 0x7fddf02cc150>"
      ]
     },
     "metadata": {},
     "output_type": "display_data"
    }
   ],
   "source": [
    "fig, ax = plt.subplots(figsize=(float(5),float(4)))\n",
    "\n",
    "pcol = plt.pcolormesh(X_lm,Y_lm,Z_lm_lower,cmap=colmap,vmin=0.0, vmax=1.0,rasterized=True)\n",
    "\n",
    "plt.xlabel(\"length $\\ell$\")\n",
    "plt.ylabel(\"number of relators $m$\")\n",
    "plt.xticks([int(i) for i in [6,10,15,20,25,30]])\n",
    "plt.yticks([int(i) for i in [2,10,20,30,40]])\n",
    "\n",
    "ax_divider = make_axes_locatable(ax)\n",
    "cax = ax_divider.append_axes(\"top\", size=\"7%\", pad=\"7%\")\n",
    "cb = plt.colorbar(pcol, cax=cax, orientation=\"horizontal\",label=\"probability\")\n",
    "cax.xaxis.set_ticks_position(\"top\")\n",
    "cb.ax.xaxis.set_label_position(\"top\")\n",
    "cb.solids.set_rasterized(True)\n",
    "\n",
    "plt.savefig(\"../output/lmLower.pdf\",bbox_inches=\"tight\",pad_inches=int(3),dpi=200)"
   ]
  },
  {
   "cell_type": "markdown",
   "metadata": {},
   "source": [
    "##### upper bound"
   ]
  },
  {
   "cell_type": "code",
   "execution_count": 32,
   "metadata": {},
   "outputs": [
    {
     "data": {
      "image/png": "[encoded data removed]",
      "text/plain": [
       "<matplotlib.figure.Figure object at 0x7fddee932510>"
      ]
     },
     "metadata": {},
     "output_type": "display_data"
    }
   ],
   "source": [
    "fig, ax = plt.subplots(figsize=(float(5),float(4)))\n",
    "\n",
    "pcol = plt.pcolormesh(X_lm,Y_lm,Z_lm_upper,cmap=colmap,vmin=0.0, vmax=1.0,rasterized=True)\n",
    "\n",
    "plt.xlabel(\"length $\\ell$\")\n",
    "plt.ylabel(\"number of relators $m$\")\n",
    "plt.xticks([int(i) for i in [6,10,15,20,25,30]])\n",
    "plt.yticks([int(i) for i in [2,10,20,30,40]])\n",
    "\n",
    "ax_divider = make_axes_locatable(ax)\n",
    "cax = ax_divider.append_axes(\"top\", size=\"7%\", pad=\"7%\")\n",
    "cb = plt.colorbar(pcol, cax=cax, orientation=\"horizontal\",label=\"probability\")\n",
    "cax.xaxis.set_ticks_position(\"top\")\n",
    "cb.ax.xaxis.set_label_position(\"top\")\n",
    "cb.solids.set_rasterized(True)\n",
    "\n",
    "plt.savefig(\"../output/lmUpper.pdf\",bbox_inches=\"tight\",pad_inches=int(3),dpi=200)"
   ]
  },
  {
   "cell_type": "markdown",
   "metadata": {},
   "source": [
    "##### experimental bound"
   ]
  },
  {
   "cell_type": "code",
   "execution_count": 33,
   "metadata": {},
   "outputs": [
    {
     "data": {
      "image/png": "[encoded data removed]",
      "text/plain": [
       "<matplotlib.figure.Figure object at 0x7fddeecda3d0>"
      ]
     },
     "metadata": {},
     "output_type": "display_data"
    }
   ],
   "source": [
    "fig, ax = plt.subplots(figsize=(float(5),float(4)))\n",
    "\n",
    "pcol = plt.pcolormesh(X_lm,Y_lm,Z_lm_exper,cmap=colmap,vmin=0.0, vmax=1.0,rasterized=True)\n",
    "\n",
    "plt.xlabel(\"length $\\ell$\")\n",
    "plt.ylabel(\"number of relators $m$\")\n",
    "plt.xticks([int(i) for i in [6,10,15,20,25,30]])\n",
    "plt.yticks([int(i) for i in [2,10,20,30,40]])\n",
    "\n",
    "ax_divider = make_axes_locatable(ax)\n",
    "cax = ax_divider.append_axes(\"top\", size=\"7%\", pad=\"7%\")\n",
    "cb = plt.colorbar(pcol, cax=cax, orientation=\"horizontal\",label=\"probability\")\n",
    "cax.xaxis.set_ticks_position(\"top\")\n",
    "cb.ax.xaxis.set_label_position(\"top\")\n",
    "cb.solids.set_rasterized(True)\n",
    "\n",
    "plt.savefig(\"../output/lmExper.pdf\",bbox_inches=\"tight\",pad_inches=int(3),dpi=200)"
   ]
  },
  {
   "cell_type": "markdown",
   "metadata": {},
   "source": [
    "---\n",
    "\n",
    "### Part 3: r vs. length"
   ]
  },
  {
   "cell_type": "markdown",
   "metadata": {},
   "source": [
    "#### Generate the data to produce the contour plot"
   ]
  },
  {
   "cell_type": "code",
   "execution_count": 39,
   "metadata": {},
   "outputs": [],
   "source": [
    "m = 10\n",
    "\n",
    "X_lr = range(2,40+1) # range of l to use\n",
    "Y_lr = range(6,50+1) # range of r to use\n",
    "\n",
    "Z_lr_lower = []\n",
    "Z_lr_upper = []\n",
    "Z_lr_exper = []\n",
    "\n",
    "for length in X_lr:\n",
    "    for r in Y_lr:\n",
    "        lower_bound = lowerBound(1/6,r,length,length,m).n(digits=8)\n",
    "        upper_bound = upperBound(1/6,r,length,m).n(digits=8)\n",
    "        exper_bound = get_prob(r,m,length,length)\n",
    "        \n",
    "        Z_lr_lower = Z_lr_lower + [lower_bound]\n",
    "        Z_lr_upper = Z_lr_upper + [upper_bound]\n",
    "        Z_lr_exper = Z_lr_exper + [exper_bound]\n",
    "        \n",
    "Z_lr_lower = np.array(Z_lr_lower).reshape((len(X_lr),len(Y_lr))).transpose()\n",
    "Z_lr_upper = np.array(Z_lr_upper).reshape((len(X_lr),len(Y_lr))).transpose()\n",
    "Z_lr_exper = np.array(Z_lr_exper).reshape((len(X_lr),len(Y_lr))).transpose()\n",
    "\n",
    "X_lr = np.array(X_lr)\n",
    "Y_lr = np.array(Y_lr)"
   ]
  },
  {
   "cell_type": "markdown",
   "metadata": {},
   "source": [
    "#### Plot the data"
   ]
  },
  {
   "cell_type": "markdown",
   "metadata": {},
   "source": [
    "##### lower bound"
   ]
  },
  {
   "cell_type": "code",
   "execution_count": 40,
   "metadata": {},
   "outputs": [
    {
     "data": {
      "image/png": "[encoded data removed]",
      "text/plain": [
       "<matplotlib.figure.Figure object at 0x7fddeff76e10>"
      ]
     },
     "metadata": {},
     "output_type": "display_data"
    }
   ],
   "source": [
    "fig, ax = plt.subplots(figsize=(float(5),float(4)))\n",
    "\n",
    "pcol = plt.pcolormesh(X_lr,Y_lr,Z_lr_lower,cmap=colmap,vmin=0.0, vmax=1.0, rasterized=True)\n",
    "\n",
    "plt.xlabel(\"length $\\ell$\")\n",
    "plt.ylabel(\"number of generators $r$\")\n",
    "plt.xticks([int(i) for i in [5,10,15,20,25,30,35,40]])\n",
    "plt.yticks([int(i) for i in [10,15,20,25,30,35,40,45,50]])\n",
    "\n",
    "ax_divider = make_axes_locatable(ax)\n",
    "cax = ax_divider.append_axes(\"top\", size=\"7%\", pad=\"7%\")\n",
    "cb = plt.colorbar(pcol, cax=cax, orientation=\"horizontal\",label=\"probability\")\n",
    "cax.xaxis.set_ticks_position(\"top\")\n",
    "cb.ax.xaxis.set_label_position(\"top\")\n",
    "cb.solids.set_rasterized(True)\n",
    "\n",
    "plt.savefig(\"../output/lrLower.pdf\",bbox_inches=\"tight\",pad_inches=int(3),dpi=200)"
   ]
  },
  {
   "cell_type": "markdown",
   "metadata": {},
   "source": [
    "##### upper bound"
   ]
  },
  {
   "cell_type": "code",
   "execution_count": 41,
   "metadata": {},
   "outputs": [
    {
     "data": {
      "image/png": "[encoded data removed]",
      "text/plain": [
       "<matplotlib.figure.Figure object at 0x7fddee6201d0>"
      ]
     },
     "metadata": {},
     "output_type": "display_data"
    }
   ],
   "source": [
    "fig, ax = plt.subplots(figsize=(float(5),float(4)))\n",
    "\n",
    "pcol = plt.pcolormesh(X_lr,Y_lr,Z_lr_upper,cmap=colmap,vmin=0.0, vmax=1.0, rasterized=True)\n",
    "\n",
    "plt.xlabel(\"length $\\ell$\")\n",
    "plt.ylabel(\"number of generators $r$\")\n",
    "plt.xticks([int(i) for i in [5,10,15,20,25,30,35,40]])\n",
    "plt.yticks([int(i) for i in [10,15,20,25,30,35,40,45,50]])\n",
    "\n",
    "ax_divider = make_axes_locatable(ax)\n",
    "cax = ax_divider.append_axes(\"top\", size=\"7%\", pad=\"7%\")\n",
    "cb = plt.colorbar(pcol, cax=cax, orientation=\"horizontal\",label=\"probability\")\n",
    "cax.xaxis.set_ticks_position(\"top\")\n",
    "cb.ax.xaxis.set_label_position(\"top\")\n",
    "cb.solids.set_rasterized(True)\n",
    "\n",
    "plt.savefig(\"../output/lrUpper.pdf\",bbox_inches=\"tight\",pad_inches=int(3),dpi=200)"
   ]
  },
  {
   "cell_type": "markdown",
   "metadata": {},
   "source": [
    "##### experimental bound"
   ]
  },
  {
   "cell_type": "code",
   "execution_count": 42,
   "metadata": {},
   "outputs": [
    {
     "data": {
      "image/png": "[encoded data removed]",
      "text/plain": [
       "<matplotlib.figure.Figure object at 0x7fddef591610>"
      ]
     },
     "metadata": {},
     "output_type": "display_data"
    }
   ],
   "source": [
    "fig, ax = plt.subplots(figsize=(float(5),float(4)))\n",
    "\n",
    "pcol = plt.pcolormesh(X_lr,Y_lr,Z_lr_exper,cmap=colmap,vmin=0.0, vmax=1.0, rasterized=True)\n",
    "\n",
    "plt.xlabel(\"length $\\ell$\")\n",
    "plt.ylabel(\"number of generators $r$\")\n",
    "plt.xticks([int(i) for i in [5,10,15,20,25,30,35,40]])\n",
    "plt.yticks([int(i) for i in [10,15,20,25,30,35,40,45,50]])\n",
    "\n",
    "ax_divider = make_axes_locatable(ax)\n",
    "cax = ax_divider.append_axes(\"top\", size=\"7%\", pad=\"7%\")\n",
    "cb = plt.colorbar(pcol, cax=cax, orientation=\"horizontal\",label=\"probability\")\n",
    "cax.xaxis.set_ticks_position(\"top\")\n",
    "cb.ax.xaxis.set_label_position(\"top\")\n",
    "cb.solids.set_rasterized(True)\n",
    "\n",
    "plt.savefig(\"../output/lrExper.pdf\",bbox_inches=\"tight\",pad_inches=int(3),dpi=200)"
   ]
  },
  {
   "cell_type": "code",
   "execution_count": null,
   "metadata": {},
   "outputs": [],
   "source": []
  },
  {
   "cell_type": "code",
   "execution_count": null,
   "metadata": {},
   "outputs": [],
   "source": []
  }
 ],
 "metadata": {
  "kernelspec": {
   "display_name": "SageMath 8.6",
   "language": "",
   "name": "sagemath"
  },
  "language_info": {
   "codemirror_mode": {
    "name": "ipython",
    "version": 2
   },
   "file_extension": ".py",
   "mimetype": "text/x-python",
   "name": "python",
   "nbconvert_exporter": "python",
   "pygments_lexer": "ipython2",
   "version": "2.7.16"
  }
 },
 "nbformat": 4,
 "nbformat_minor": 2
}
